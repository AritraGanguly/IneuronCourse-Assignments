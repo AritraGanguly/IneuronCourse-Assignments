{
 "cells": [
  {
   "cell_type": "markdown",
   "id": "062520c4",
   "metadata": {},
   "source": [
    "# Assignment 1 (Python)"
   ]
  },
  {
   "cell_type": "markdown",
   "id": "43dc8af5",
   "metadata": {},
   "source": [
    "1. *,-,/,+ ==> expressions\n",
    "   \n",
    "    'hello', -87.8 ==> values"
   ]
  },
  {
   "cell_type": "markdown",
   "id": "911bdf7e",
   "metadata": {},
   "source": [
    "2. string ==> In Python, Strings are arrays of bytes representing Unicode characters. However, Python does not have a character data type, a single character is simply a string with a length of 1. Square brackets can be used to access elements of the string.Strings are immutable. This means that elements of a string cannot be changed once they have been assigned. We can simply reassign different strings to the same name.\n",
    "\n",
    "variable==> A variable is a name given to a memory location. It is the basic unit of storage in a program.\n",
    "\n"
   ]
  },
  {
   "cell_type": "markdown",
   "id": "915f1e3b",
   "metadata": {},
   "source": [
    "3. int,float,str,bool"
   ]
  },
  {
   "cell_type": "markdown",
   "id": "64277f36",
   "metadata": {},
   "source": [
    "4. An expression is a combination of values, variables, and operators that results a value.Expressions are often part of a     statement.\n",
    "\n",
    "   All expression evaluates down to a single value\n",
    "\n",
    "  "
   ]
  },
  {
   "cell_type": "markdown",
   "id": "0a342719",
   "metadata": {},
   "source": [
    "5.Expressions only contain identifiers, literals and operators, where operators include arithmetic and boolean operators, the function call operator () the subscription operator [] and similar, and can be reduced to some kind of \"value\", which can be any Python object. \n",
    "\n",
    "A statement is an instruction that the Python interpreter can execute.Statements are everything that can make up a line (or several lines) of Python code.expressions are statements as well.Statements Do Something and are often composed of expressions (or other statements).\n",
    "\n",
    "Statements represent an action or command e.g print statements, assignment statements.Expression is a combination of variables, operations and values that yields a result value."
   ]
  },
  {
   "cell_type": "markdown",
   "id": "1e50177c",
   "metadata": {},
   "source": [
    "6.bacon is still 22"
   ]
  },
  {
   "cell_type": "markdown",
   "id": "357b5077",
   "metadata": {},
   "source": [
    "7. spamspamspam\n",
    "\n",
    "   spamspamspam"
   ]
  },
  {
   "cell_type": "markdown",
   "id": "827d4b59",
   "metadata": {},
   "source": [
    "8. a variable name cannot start with a number."
   ]
  },
  {
   "cell_type": "markdown",
   "id": "a134934b",
   "metadata": {},
   "source": [
    "9.int() to get integer\n",
    "  \n",
    "  float() to get a float no\n",
    "  \n",
    "  str() to get string version\n",
    " \n",
    "  "
   ]
  },
  {
   "cell_type": "markdown",
   "id": "8527545d",
   "metadata": {},
   "source": [
    "10. Because you cannot concanete string with a int .\n",
    "    \n",
    "    correct way:\"I have eaten\"+ \" 99 \"+ \"burritos\"\n",
    "                                  or\n",
    "                 \"I have eaten \"+ str(99) + \" burritos\""
   ]
  },
  {
   "cell_type": "code",
   "execution_count": null,
   "id": "cd636ee7",
   "metadata": {},
   "outputs": [],
   "source": []
  }
 ],
 "metadata": {
  "kernelspec": {
   "display_name": "Python 3",
   "language": "python",
   "name": "python3"
  },
  "language_info": {
   "codemirror_mode": {
    "name": "ipython",
    "version": 3
   },
   "file_extension": ".py",
   "mimetype": "text/x-python",
   "name": "python",
   "nbconvert_exporter": "python",
   "pygments_lexer": "ipython3",
   "version": "3.8.8"
  }
 },
 "nbformat": 4,
 "nbformat_minor": 5
}
