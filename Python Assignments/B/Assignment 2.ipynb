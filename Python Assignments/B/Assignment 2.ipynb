{
 "cells": [
  {
   "cell_type": "markdown",
   "id": "7b477c21",
   "metadata": {},
   "source": [
    "# ASSIGNMENT 2"
   ]
  },
  {
   "cell_type": "markdown",
   "id": "351d3b08",
   "metadata": {},
   "source": [
    "1.>The 2 values of boolean data type are true and false.\n",
    "\n",
    "  In python it is written as True and False . Default value of boolean is False."
   ]
  },
  {
   "cell_type": "markdown",
   "id": "53e7d0e7",
   "metadata": {},
   "source": [
    "2.>The three diffrent types of boolean operators are AND, OR ,NOT."
   ]
  },
  {
   "cell_type": "markdown",
   "id": "26f72d09",
   "metadata": {},
   "source": [
    "3.>AND and OR Operator\n",
    "\n",
    "\n",
    "    INPUT1    INPUT2    AND OPERATOR    OR OPERATOR\n",
    "      T         T          T                 T\n",
    "      F         F          F                 F\n",
    "      T         F          F                 T\n",
    "      F         T          F                 T\n",
    "      \n",
    "      NOT operator\n",
    "   \n",
    "      INPUT        NOT OPERATOR\n",
    "       T              F\n",
    "       F              T\n",
    "      "
   ]
  },
  {
   "cell_type": "markdown",
   "id": "680b07f4",
   "metadata": {},
   "source": [
    "4.> False\n",
    "    False\n",
    "    True\n",
    "    False\n",
    "    False\n",
    "    True"
   ]
  },
  {
   "cell_type": "markdown",
   "id": "019ec1a5",
   "metadata": {},
   "source": [
    "5.> six Comparison operator are-\n",
    "     1.equal to(==)\n",
    "     2.not equal(!=)\n",
    "     3.greater than (>)\n",
    "     4.less than(<)\n",
    "     5.greater than equal to(>=)\n",
    "     6.less than equal to(<=)\n",
    "     "
   ]
  },
  {
   "cell_type": "markdown",
   "id": "e776e294",
   "metadata": {},
   "source": [
    "6.> Equal to operator uses two equal symbols(==) whereas assignment operator uses one equal symbol(=)\n",
    "   \n",
    "   When we are assigning a value to a variable we use an assignment operator like a=10\n",
    "   But when we want to check something is equal to another thing or not , then we use equal to operator like print(a==11)\n",
    "   will give False becouse a is not equal to 11."
   ]
  },
  {
   "cell_type": "markdown",
   "id": "276adb4d",
   "metadata": {},
   "source": [
    "7.>\n",
    "Block 1) \n",
    "if spam==10:\n",
    "    print('eggs')\n",
    " Block 2) \n",
    " if spam>5:\n",
    "    print('bacon')\n",
    " Block 3)\n",
    " else:\n",
    "    print('ham')"
   ]
  },
  {
   "cell_type": "code",
   "execution_count": 12,
   "id": "68c36833",
   "metadata": {},
   "outputs": [
    {
     "name": "stdout",
     "output_type": "stream",
     "text": [
      "3\n",
      "Greetings!\n"
     ]
    }
   ],
   "source": [
    "#8.>\n",
    "spam=int(input())\n",
    "if spam==1:\n",
    "    print(\"Hello\")\n",
    "elif spam==2:\n",
    "    print(\"Howdy\")\n",
    "else:\n",
    "    print(\"Greetings!\")"
   ]
  },
  {
   "cell_type": "markdown",
   "id": "34654094",
   "metadata": {},
   "source": [
    "9.> Druing endless loop in jupyter notebook we can press '0' twice for restarting the kernel or 'I' twice for interrupting the kernel. we can also manuaaly click those from kernel drop down menu"
   ]
  },
  {
   "cell_type": "markdown",
   "id": "3ab9defd",
   "metadata": {},
   "source": [
    "10.>Break leaves the loop completely and executes the statements after the loop (if any present). Whereas Continue leaves the current iteration and jumps to the next iteration in the loop."
   ]
  },
  {
   "cell_type": "markdown",
   "id": "0d85b3ae",
   "metadata": {},
   "source": [
    "11.> There is no difference . In All theree statements range() function returns a sequence of numbers, starting from 0  [by default in range(10), specified in range(0,10) and range (0,10,1),] and increments by 1 (by default in range(10),range(0,10),and specifed in rnage(0,10,1) and stops before 10 i.e at 9."
   ]
  },
  {
   "cell_type": "code",
   "execution_count": 26,
   "id": "ada38337",
   "metadata": {},
   "outputs": [
    {
     "name": "stdout",
     "output_type": "stream",
     "text": [
      "1\n",
      "2\n",
      "3\n",
      "4\n",
      "5\n",
      "6\n",
      "7\n",
      "8\n",
      "9\n",
      "10\n"
     ]
    }
   ],
   "source": [
    "#12\n",
    "for i in range(1,11):\n",
    "    print(i)"
   ]
  },
  {
   "cell_type": "code",
   "execution_count": 33,
   "id": "95057870",
   "metadata": {},
   "outputs": [
    {
     "name": "stdout",
     "output_type": "stream",
     "text": [
      "1\n",
      "2\n",
      "3\n",
      "4\n",
      "5\n",
      "6\n",
      "7\n",
      "8\n",
      "9\n",
      "10\n"
     ]
    }
   ],
   "source": [
    "#12\n",
    "i=1\n",
    "while i<11:\n",
    "    print(i)\n",
    "    i+=1"
   ]
  },
  {
   "cell_type": "markdown",
   "id": "023f29e1",
   "metadata": {},
   "source": [
    "13.> spam.bacon()"
   ]
  },
  {
   "cell_type": "code",
   "execution_count": null,
   "id": "75319ea7",
   "metadata": {},
   "outputs": [],
   "source": []
  }
 ],
 "metadata": {
  "kernelspec": {
   "display_name": "Python 3",
   "language": "python",
   "name": "python3"
  },
  "language_info": {
   "codemirror_mode": {
    "name": "ipython",
    "version": 3
   },
   "file_extension": ".py",
   "mimetype": "text/x-python",
   "name": "python",
   "nbconvert_exporter": "python",
   "pygments_lexer": "ipython3",
   "version": "3.8.8"
  }
 },
 "nbformat": 4,
 "nbformat_minor": 5
}
