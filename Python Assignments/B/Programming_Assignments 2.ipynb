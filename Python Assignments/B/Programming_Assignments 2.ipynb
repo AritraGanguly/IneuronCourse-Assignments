{
 "cells": [
  {
   "cell_type": "markdown",
   "id": "aa9a14a7",
   "metadata": {},
   "source": [
    "\n",
    "# Programming Assignments 2"
   ]
  },
  {
   "cell_type": "code",
   "execution_count": 3,
   "id": "f6d7c435",
   "metadata": {},
   "outputs": [
    {
     "name": "stdout",
     "output_type": "stream",
     "text": [
      "Enter in K.M10\n",
      "The distance in mile is 6.2\n"
     ]
    }
   ],
   "source": [
    "#1.>\n",
    "# 1 KM=.62 MILE\n",
    "a=int(input(\"Enter in K.M\"))\n",
    "print(\"The distance in mile is\",a*.62)"
   ]
  },
  {
   "cell_type": "code",
   "execution_count": 8,
   "id": "16a6ea49",
   "metadata": {},
   "outputs": [
    {
     "name": "stdout",
     "output_type": "stream",
     "text": [
      "enter degree in C°100\n",
      "Temp in Farenhiet is: 212.0 F\n"
     ]
    }
   ],
   "source": [
    "#2.>\n",
    "#F=32+(C*(9/5))\n",
    "c=int(input(\"Enter degree in C°\"))\n",
    "f=32+((9/5)*c)\n",
    "print(\"Temp in Farenhiet is:\",f,\"F\")"
   ]
  },
  {
   "cell_type": "code",
   "execution_count": 17,
   "id": "46598fa0",
   "metadata": {},
   "outputs": [
    {
     "name": "stdout",
     "output_type": "stream",
     "text": [
      "Enter Year2500\n",
      "                                  2500\n",
      "\n",
      "      January                   February                   March\n",
      "Mo Tu We Th Fr Sa Su      Mo Tu We Th Fr Sa Su      Mo Tu We Th Fr Sa Su\n",
      "             1  2  3       1  2  3  4  5  6  7       1  2  3  4  5  6  7\n",
      " 4  5  6  7  8  9 10       8  9 10 11 12 13 14       8  9 10 11 12 13 14\n",
      "11 12 13 14 15 16 17      15 16 17 18 19 20 21      15 16 17 18 19 20 21\n",
      "18 19 20 21 22 23 24      22 23 24 25 26 27 28      22 23 24 25 26 27 28\n",
      "25 26 27 28 29 30 31                                29 30 31\n",
      "\n",
      "       April                      May                       June\n",
      "Mo Tu We Th Fr Sa Su      Mo Tu We Th Fr Sa Su      Mo Tu We Th Fr Sa Su\n",
      "          1  2  3  4                      1  2          1  2  3  4  5  6\n",
      " 5  6  7  8  9 10 11       3  4  5  6  7  8  9       7  8  9 10 11 12 13\n",
      "12 13 14 15 16 17 18      10 11 12 13 14 15 16      14 15 16 17 18 19 20\n",
      "19 20 21 22 23 24 25      17 18 19 20 21 22 23      21 22 23 24 25 26 27\n",
      "26 27 28 29 30            24 25 26 27 28 29 30      28 29 30\n",
      "                          31\n",
      "\n",
      "        July                     August                  September\n",
      "Mo Tu We Th Fr Sa Su      Mo Tu We Th Fr Sa Su      Mo Tu We Th Fr Sa Su\n",
      "          1  2  3  4                         1             1  2  3  4  5\n",
      " 5  6  7  8  9 10 11       2  3  4  5  6  7  8       6  7  8  9 10 11 12\n",
      "12 13 14 15 16 17 18       9 10 11 12 13 14 15      13 14 15 16 17 18 19\n",
      "19 20 21 22 23 24 25      16 17 18 19 20 21 22      20 21 22 23 24 25 26\n",
      "26 27 28 29 30 31         23 24 25 26 27 28 29      27 28 29 30\n",
      "                          30 31\n",
      "\n",
      "      October                   November                  December\n",
      "Mo Tu We Th Fr Sa Su      Mo Tu We Th Fr Sa Su      Mo Tu We Th Fr Sa Su\n",
      "             1  2  3       1  2  3  4  5  6  7             1  2  3  4  5\n",
      " 4  5  6  7  8  9 10       8  9 10 11 12 13 14       6  7  8  9 10 11 12\n",
      "11 12 13 14 15 16 17      15 16 17 18 19 20 21      13 14 15 16 17 18 19\n",
      "18 19 20 21 22 23 24      22 23 24 25 26 27 28      20 21 22 23 24 25 26\n",
      "25 26 27 28 29 30 31      29 30                     27 28 29 30 31\n",
      "\n"
     ]
    }
   ],
   "source": [
    "#3.>\n",
    "import calendar\n",
    "y=int(input(\"Enter Year\"))\n",
    "print(calendar.calendar(y))"
   ]
  },
  {
   "cell_type": "code",
   "execution_count": 30,
   "id": "6fd7a08a",
   "metadata": {},
   "outputs": [
    {
     "name": "stdout",
     "output_type": "stream",
     "text": [
      "Enter the value of a1\n",
      "Enter the value of b1\n",
      "Enter the value of c1\n",
      "Complex Roots\n",
      "-0.5  +  1.7320508075688772 i\n",
      "-0.5  +  1.7320508075688772 i\n"
     ]
    }
   ],
   "source": [
    "#4.>\n",
    "import math\n",
    "def roots( a, b, c): \n",
    "    dis = b * b - 4 * a * c \n",
    "    sqrt_val = math.sqrt(abs(dis)) \n",
    "      \n",
    "    # checking condition for discriminant\n",
    "    if dis > 0: \n",
    "        print(\" real and different roots \") \n",
    "        print((-b + sqrt_val)/(2 * a)) \n",
    "        print((-b - sqrt_val)/(2 * a)) \n",
    "      \n",
    "    elif dis == 0: \n",
    "        print(\" real and same roots\") \n",
    "        print(-b / (2 * a)) \n",
    "      \n",
    "    # when discriminant is less than 0\n",
    "    else:\n",
    "        print(\"Complex Roots\") \n",
    "        print(- b / (2 * a),\" + \", sqrt_val, \"i\") \n",
    "        print(- b / (2 * a),\" + \", sqrt_val, \"i\") \n",
    "        \n",
    "  \n",
    "a = int(input(\"Enter the value of a\"))\n",
    "b = int(input(\"Enter the value of b\"))\n",
    "c = int(input(\"Enter the value of c\"))\n",
    "  \n",
    "# If a is 0, then incorrect equation\n",
    "if a == 0: \n",
    "        print(\"Input correct quadratic equation\") \n",
    "  \n",
    "else:\n",
    "    roots(a, b, c)"
   ]
  },
  {
   "cell_type": "code",
   "execution_count": 25,
   "id": "20dfe257",
   "metadata": {},
   "outputs": [
    {
     "name": "stdout",
     "output_type": "stream",
     "text": [
      "Enter 1 st no10\n",
      "Enter 2 nd no23\n",
      "The values befor swapping: a= 10  b= 23\n",
      "The values after swapping: a= 23  b= 10\n"
     ]
    }
   ],
   "source": [
    "#5.>\n",
    "a=int(input(\"Enter 1 st no\"))\n",
    "b=int(input(\"Enter 2 nd no\"))\n",
    "print(\"The values befor swapping: a=\",a,\" b=\",b)\n",
    "#swapping no\n",
    "a,b=b,a\n",
    "print(\"The values after swapping: a=\",a,\" b=\",b)"
   ]
  },
  {
   "cell_type": "code",
   "execution_count": null,
   "id": "c7073c6f",
   "metadata": {},
   "outputs": [],
   "source": []
  }
 ],
 "metadata": {
  "kernelspec": {
   "display_name": "Python 3",
   "language": "python",
   "name": "python3"
  },
  "language_info": {
   "codemirror_mode": {
    "name": "ipython",
    "version": 3
   },
   "file_extension": ".py",
   "mimetype": "text/x-python",
   "name": "python",
   "nbconvert_exporter": "python",
   "pygments_lexer": "ipython3",
   "version": "3.8.8"
  }
 },
 "nbformat": 4,
 "nbformat_minor": 5
}
